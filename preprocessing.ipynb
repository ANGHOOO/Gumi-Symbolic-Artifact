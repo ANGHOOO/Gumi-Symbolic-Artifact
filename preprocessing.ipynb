{
  "cells": [
    {
      "cell_type": "code",
      "execution_count": null,
      "metadata": {
        "colab": {
          "base_uri": "https://localhost:8080/",
          "height": 361
        },
        "id": "NOkdV8mwGXmh",
        "outputId": "ca0f7771-ef47-415c-9ed2-1396cd863bce"
      },
      "outputs": [],
      "source": [
        "#@title\n",
        "import pandas as pd\n",
        "from google.colab import drive\n",
        "import re\n",
        "drive.mount('/content/drive/')"
      ]
    },
    {
      "cell_type": "code",
      "execution_count": null,
      "metadata": {
        "id": "W0g8m_HRGiwk"
      },
      "outputs": [],
      "source": [
        "#@title\n",
        "up2018_path = '/content/drive/MyDrive/Colab Notebooks/구미시 뉴스기사 분류/data/2018년 상반기.xlsx'\n",
        "down2018_path = '/content/drive/MyDrive/Colab Notebooks/구미시 뉴스기사 분류/data/2018년 하반기.xlsx'\n",
        "up2019_path = '/content/drive/MyDrive/Colab Notebooks/구미시 뉴스기사 분류/data/2019년 상반기.xlsx'\n",
        "down2019_path = '/content/drive/MyDrive/Colab Notebooks/구미시 뉴스기사 분류/data/2019년 하반기.xlsx'\n",
        "up2020_path = '/content/drive/MyDrive/Colab Notebooks/구미시 뉴스기사 분류/data/2020년 상반기.xlsx'\n",
        "down2020_path = '/content/drive/MyDrive/Colab Notebooks/구미시 뉴스기사 분류/data/2020년 하반기.xlsx'\n",
        "up2021_path = '/content/drive/MyDrive/Colab Notebooks/구미시 뉴스기사 분류/data/2021년 상반기.xlsx'\n",
        "down2021_path = '/content/drive/MyDrive/Colab Notebooks/구미시 뉴스기사 분류/data/2021년 하반기.xlsx'\n",
        "up2022_path = '/content/drive/MyDrive/Colab Notebooks/구미시 뉴스기사 분류/data/2022년 상반기.xlsx'\n",
        "down2022_path = '/content/drive/MyDrive/Colab Notebooks/구미시 뉴스기사 분류/data/2022년 하반기.xlsx'"
      ]
    },
    {
      "cell_type": "code",
      "execution_count": null,
      "metadata": {
        "id": "49r-6l7EHTKG"
      },
      "outputs": [],
      "source": [
        "#@title\n",
        "df2018_up = pd.read_excel(up2018_path)\n",
        "df2018_down = pd.read_excel(down2018_path)\n",
        "df2019_up = pd.read_excel(up2019_path)\n",
        "df2019_down = pd.read_excel(down2019_path)\n",
        "df2020_up = pd.read_excel(up2020_path)\n",
        "df2020_down = pd.read_excel(down2020_path)\n",
        "df2021_up = pd.read_excel(up2021_path)\n",
        "df2021_down = pd.read_excel(down2021_path)\n",
        "df2022_up = pd.read_excel(up2022_path)\n",
        "df2022_down = pd.read_excel(down2022_path)"
      ]
    },
    {
      "cell_type": "code",
      "execution_count": null,
      "metadata": {
        "id": "Nwka2QnSIUV0"
      },
      "outputs": [],
      "source": [
        "#@title\n",
        "# 뉴스기사 전처리\n",
        "p = re.compile('[^ ㄱ-ㅣ가-힣+]')\n",
        "\n",
        "def remove_special_characters(sentence):\n",
        "    sentence = p.sub(' ',sentence)\n",
        "    sentence = ' '.join(sentence.split())\n",
        "    return sentence"
      ]
    },
    {
      "cell_type": "code",
      "execution_count": null,
      "metadata": {
        "id": "UQPiQkckIZUI"
      },
      "outputs": [],
      "source": [
        "#@title\n",
        "df2018_up_pro = df2018_up['본문'].map(remove_special_characters)\n",
        "df2018_down_pro = df2018_down['본문'].map(remove_special_characters)\n",
        "df2019_up_pro = df2019_up['본문'].map(remove_special_characters)\n",
        "df2019_down_pro = df2019_down['본문'].map(remove_special_characters)\n",
        "df2020_up_pro = df2020_up['본문'].map(remove_special_characters)\n",
        "df2020_down_pro = df2020_down['본문'].map(remove_special_characters)\n",
        "df2021_up_pro= df2021_up['본문'].map(remove_special_characters)\n",
        "df2021_down_pro = df2021_down['본문'].map(remove_special_characters)\n",
        "df2022_up_pro= df2022_up['본문'].map(remove_special_characters)\n",
        "df2022_down_pro= df2022_down['본문'].map(remove_special_characters)\n",
        "df2018_up_pro = df2018_up_pro.map(lambda x: x.replace('대구', '대구시'))\n",
        "df2018_down_pro= df2018_down_pro.map(lambda x: x.replace('대구', '대구시'))\n",
        "df2019_up_pro= df2019_up_pro.map(lambda x: x.replace('대구', '대구시'))\n",
        "df2019_down_pro= df2019_down_pro.map(lambda x: x.replace('대구', '대구시'))\n",
        "df2020_up_pro = df2020_up_pro.map(lambda x: x.replace('대구', '대구시'))\n",
        "df2020_down_pro = df2020_down_pro.map(lambda x: x.replace('대구', '대구시'))\n",
        "df2021_up_pro = df2021_up_pro.map(lambda x: x.replace('대구', '대구시'))\n",
        "df2021_down_pro = df2021_down_pro.map(lambda x: x.replace('대구', '대구시'))\n",
        "df2022_up_pro = df2022_up_pro.map(lambda x: x.replace('대구', '대구시'))\n",
        "df2022_down_pro = df2022_down_pro.map(lambda x: x.replace('대구', '대구시'))\n",
        "df2018_up_pro = df2018_up_pro.map(lambda x: x.replace('대구시시', '대구시'))\n",
        "df2018_down_pro = df2018_down_pro.map(lambda x: x.replace('대구시시', '대구시'))\n",
        "df2019_up_pro = df2019_up_pro.map(lambda x: x.replace('대구시시', '대구시'))\n",
        "df2019_down_pro = df2019_down_pro.map(lambda x: x.replace('대구시시', '대구시'))\n",
        "df2020_up_pro = df2020_up_pro.map(lambda x: x.replace('대구시시', '대구시'))\n",
        "df2020_down_pro = df2020_down_pro.map(lambda x: x.replace('대구시시', '대구시'))\n",
        "df2021_up_pro = df2021_up_pro.map(lambda x: x.replace('대구시시', '대구시'))\n",
        "df2022_down_pro = df2021_down_pro.map(lambda x: x.replace('대구시시', '대구시'))\n",
        "df2022_up_pro = df2022_up_pro.map(lambda x: x.replace('대구시시', '대구시'))\n",
        "df2022_down_pro = df2022_down_pro.map(lambda x: x.replace('대구시시', '대구시'))"
      ]
    },
    {
      "cell_type": "code",
      "execution_count": null,
      "metadata": {
        "id": "NjJ-srvmN4cc"
      },
      "outputs": [],
      "source": [
        "#@title\n",
        "%%bash\n",
        "apt-get update\n",
        "apt-get install g++ openjdk-8-jdk python-dev python3-dev\n",
        "pip3 install JPype1\n",
        "pip3 install konlpy"
      ]
    },
    {
      "cell_type": "code",
      "execution_count": null,
      "metadata": {
        "id": "DiSYEd3IN4Wl"
      },
      "outputs": [],
      "source": [
        "#@title\n",
        "%env JAVA_HOME \"/usr/lib/jvm/java-8-openjdk-amd64\""
      ]
    },
    {
      "cell_type": "code",
      "execution_count": null,
      "metadata": {
        "id": "sclOQ1uXPXI0"
      },
      "outputs": [],
      "source": [
        "#@title\n",
        "import sys\n",
        "from wordcloud import WordCloud\n",
        "from konlpy.tag import Twitter\n",
        "from collections import Counter\n",
        "from nltk.corpus import stopwords\n",
        "from nltk.tokenize import word_tokenize\n",
        "from PIL import *\n",
        "import nltk\n",
        "import numpy as np\n",
        "nltk.download('punkt')"
      ]
    },
    {
      "cell_type": "code",
      "execution_count": null,
      "metadata": {
        "id": "anZpgmU4NxGZ"
      },
      "outputs": [],
      "source": [
        "#@title\n",
        "korean_stopwords_path = \"/content/drive/MyDrive/Colab Notebooks/구미시 뉴스기사 분류/data/korean_stopwords.txt\"\n",
        "\n",
        "with open(korean_stopwords_path, encoding = 'utf-8') as f:\n",
        "    stopwords = f.readlines()\n",
        "stopwords = [x.strip() for x in stopwords]"
      ]
    },
    {
      "cell_type": "code",
      "execution_count": null,
      "metadata": {
        "id": "TCe4C8-bNxBl"
      },
      "outputs": [],
      "source": [
        "#@title\n",
        "def remove_stopwords(sentence):\n",
        "    word_tokens = word_tokenize(sentence)\n",
        "    word_list = []\n",
        "\n",
        "    for word in word_tokens:\n",
        "        if word not in stopwords:\n",
        "            if word[:2] != '구미':\n",
        "                word_list.append(word)\n",
        "        sentence = ' '.join(word_list)\n",
        "    return sentence"
      ]
    },
    {
      "cell_type": "code",
      "execution_count": null,
      "metadata": {
        "id": "MkpQSQ_lPJL9"
      },
      "outputs": [],
      "source": [
        "#@title\n",
        "df2018_up_pro = df2018_up_pro.map(remove_stopwords)\n",
        "df2018_down_pro = df2018_down_pro.map(remove_stopwords)\n",
        "df2019_up_pro = df2019_up_pro.map(remove_stopwords)\n",
        "df2019_down_pro = df2019_down_pro.map(remove_stopwords)\n",
        "df2020_up_pro = df2020_up_pro.map(remove_stopwords)\n",
        "df2020_down_pro = df2020_down_pro.map(remove_stopwords)\n",
        "df2021_up_pro = df2021_up_pro.map(remove_stopwords)\n",
        "df2021_down_pro = df2021_down_pro.map(remove_stopwords)\n",
        "df2022_up_pro = df2022_up_pro.map(remove_stopwords)\n",
        "df2022_down_pro = df2022_down_pro.map(remove_stopwords)"
      ]
    },
    {
      "cell_type": "code",
      "execution_count": null,
      "metadata": {
        "id": "3nreK6cdIZQI"
      },
      "outputs": [],
      "source": [
        "#@title\n",
        "def word_count(sentence):\n",
        "    for word in sentence.split():\n",
        "        if word in word_list:\n",
        "            word_list[word] += 1\n",
        "        else:\n",
        "            word_list[word] = 1"
      ]
    },
    {
      "cell_type": "code",
      "execution_count": null,
      "metadata": {
        "id": "flRjGfJ1IZJ-"
      },
      "outputs": [],
      "source": [
        "#@title\n",
        "word_list = {}\n",
        "df2018_up_pro.map(word_count)\n",
        "word_list = {k:v for k,v in sorted(word_list.items(), key=lambda item: item[1], reverse = True)}"
      ]
    },
    {
      "cell_type": "code",
      "execution_count": null,
      "metadata": {
        "id": "CfahTwM2SiiB"
      },
      "outputs": [],
      "source": [
        "#@title\n",
        "word_list = {}\n",
        "df2018_down_pro.map(word_count)\n",
        "word_list = {k:v for k,v in sorted(word_list.items(), key=lambda item: item[1], reverse = True)}"
      ]
    },
    {
      "cell_type": "code",
      "execution_count": null,
      "metadata": {
        "id": "uUUzhpA2Sifu"
      },
      "outputs": [],
      "source": [
        "#@title\n",
        "word_list = {}\n",
        "df2019_up_pro.map(word_count)\n",
        "word_list = {k:v for k,v in sorted(word_list.items(), key=lambda item: item[1], reverse = True)}"
      ]
    },
    {
      "cell_type": "code",
      "execution_count": null,
      "metadata": {
        "id": "K_EZXAEiSidM"
      },
      "outputs": [],
      "source": [
        "#@title\n",
        "word_list = {}\n",
        "df2019_down_pro.map(word_count)\n",
        "word_list = {k:v for k,v in sorted(word_list.items(), key=lambda item: item[1], reverse = True)}"
      ]
    },
    {
      "cell_type": "code",
      "execution_count": null,
      "metadata": {
        "id": "vGZ34yrUSiXx"
      },
      "outputs": [],
      "source": [
        "#@title\n",
        "word_list = {}\n",
        "df2020_up_pro.map(word_count)\n",
        "word_list = {k:v for k,v in sorted(word_list.items(), key=lambda item: item[1], reverse = True)}"
      ]
    },
    {
      "cell_type": "code",
      "execution_count": null,
      "metadata": {
        "id": "ukgXlvOKSiRy"
      },
      "outputs": [],
      "source": [
        "#@title\n",
        "word_list = {}\n",
        "df2020_down_pro.map(word_count)\n",
        "word_list = {k:v for k,v in sorted(word_list.items(), key=lambda item: item[1], reverse = True)}"
      ]
    },
    {
      "cell_type": "code",
      "execution_count": null,
      "metadata": {
        "id": "9A_7nn9OSiIJ"
      },
      "outputs": [],
      "source": [
        "#@title\n",
        "word_list = {}\n",
        "df2021_up_pro.map(word_count)\n",
        "word_list = {k:v for k,v in sorted(word_list.items(), key=lambda item: item[1], reverse = True)}"
      ]
    },
    {
      "cell_type": "code",
      "execution_count": null,
      "metadata": {
        "id": "ZCZB9j-fSh_W"
      },
      "outputs": [],
      "source": [
        "#@title\n",
        "word_list = {}\n",
        "df2021_down_pro.map(word_count)\n",
        "word_list = {k:v for k,v in sorted(word_list.items(), key=lambda item: item[1], reverse = True)}"
      ]
    },
    {
      "cell_type": "code",
      "execution_count": null,
      "metadata": {
        "id": "JjKHvFXTStq4"
      },
      "outputs": [],
      "source": [
        "#@title\n",
        "word_list = {}\n",
        "df2022_up_pro.map(word_count)\n",
        "word_list = {k:v for k,v in sorted(word_list.items(), key=lambda item: item[1], reverse = True)}"
      ]
    },
    {
      "cell_type": "code",
      "execution_count": null,
      "metadata": {
        "id": "K8TTbof6Stik"
      },
      "outputs": [],
      "source": [
        "#@title\n",
        "word_list = {}\n",
        "df2022_down_pro.map(word_count)\n",
        "word_list = {k:v for k,v in sorted(word_list.items(), key=lambda item: item[1], reverse = True)}"
      ]
    },
    {
      "cell_type": "code",
      "execution_count": null,
      "metadata": {
        "colab": {
          "base_uri": "https://localhost:8080/"
        },
        "id": "eYGhtv3ILPr1",
        "outputId": "d6e90f4e-35e0-4d9d-8f03-6c9e11f0a956"
      },
      "outputs": [],
      "source": [
        "print(f'2018 상반기 : {word_list}') # ==> 1, 10 Topic (대구시, 아파트)"
      ]
    },
    {
      "cell_type": "code",
      "execution_count": null,
      "metadata": {
        "colab": {
          "base_uri": "https://localhost:8080/"
        },
        "id": "mzENsV43LPp8",
        "outputId": "eed0f14f-0df4-4da9-8650-0ea84b8cd5e4"
      },
      "outputs": [],
      "source": [
        "print(f'2018 하반기 : {word_list}') # ==> 1, 2번 Topic (대구시, 취수, 대통령, 박정희)"
      ]
    },
    {
      "cell_type": "code",
      "execution_count": null,
      "metadata": {
        "colab": {
          "base_uri": "https://localhost:8080/"
        },
        "id": "m0pu7Fr_LPoQ",
        "outputId": "8565980c-1023-4220-ee7c-f48214e87ab0"
      },
      "outputs": [],
      "source": [
        "print(f'2019 상반기 : {word_list}') # ==> 0번, 9번, 21번 Topic (화재, 일자리, 반도체)"
      ]
    },
    {
      "cell_type": "code",
      "execution_count": null,
      "metadata": {
        "colab": {
          "base_uri": "https://localhost:8080/"
        },
        "id": "1_qbwklULPmV",
        "outputId": "0dd8bef6-3099-4412-9eb0-2c9385505a4d"
      },
      "outputs": [],
      "source": [
        "print(f'2019 하반기 : {word_list}') # ==> 2번, 9번, 21번 Topic (박정희, 일자리, 배터리)"
      ]
    },
    {
      "cell_type": "code",
      "execution_count": null,
      "metadata": {
        "colab": {
          "base_uri": "https://localhost:8080/"
        },
        "id": "CtqaTIMRS43c",
        "outputId": "74ecf386-32de-429b-c51e-6207a6800641"
      },
      "outputs": [],
      "source": [
        "print(f'2020 상반기 : {word_list}') # ==> 7번, 2번 Topic (코로나, 민주당)"
      ]
    },
    {
      "cell_type": "code",
      "execution_count": null,
      "metadata": {
        "colab": {
          "base_uri": "https://localhost:8080/"
        },
        "id": "Pc7ktQVBS8qC",
        "outputId": "3c4686ac-86dc-4525-f140-01246826cd96"
      },
      "outputs": [],
      "source": [
        "print(f'2020 하반기 : {word_list}') # ==> 1번, 7번, 10번 Topic (취수, 코로나, 아파트)"
      ]
    },
    {
      "cell_type": "code",
      "execution_count": null,
      "metadata": {
        "colab": {
          "base_uri": "https://localhost:8080/"
        },
        "id": "v2AUOC-US8nR",
        "outputId": "74e00304-a640-4986-94d2-4bd2c327c78c"
      },
      "outputs": [],
      "source": [
        "print(f'2021 상반기 : {word_list}')  # ==> 7번, 5번 Topic (코로나, 빌라 여아 시신)"
      ]
    },
    {
      "cell_type": "code",
      "execution_count": null,
      "metadata": {
        "colab": {
          "base_uri": "https://localhost:8080/"
        },
        "id": "MGwdNzc1S8lV",
        "outputId": "0a7a0ddc-f128-48b7-bbb1-6dace6edcc95"
      },
      "outputs": [],
      "source": [
        "print(f'2021 하반기 : {word_list}') # ==> 1번, 7번, 21번, 2번  Topic (취수, 코로나, 반도체, 박정희)"
      ]
    },
    {
      "cell_type": "code",
      "execution_count": null,
      "metadata": {
        "colab": {
          "base_uri": "https://localhost:8080/"
        },
        "id": "PnXFf1zwTPWo",
        "outputId": "c5fb07c0-6841-48d6-c5ba-22fd6fa9fda0"
      },
      "outputs": [],
      "source": [
        "print(f'2022 상반기 : {word_list}') # ==> 7번, 2번, 9번, 10번 Topic (코로나, 대통령(윤석열), 일자리, 아파트)"
      ]
    },
    {
      "cell_type": "code",
      "execution_count": null,
      "metadata": {
        "colab": {
          "base_uri": "https://localhost:8080/"
        },
        "id": "2j3JplDhTVAV",
        "outputId": "ce7b761e-0dbf-4128-c993-90fbcfe82650"
      },
      "outputs": [],
      "source": [
        "print(f'2022 하반기 : {word_list}') # ==> 1번, 7번, 21번, 2번, Topic (취수, 코로나, 반도체, 대통령(박정희))"
      ]
    }
  ],
  "metadata": {
    "colab": {
      "provenance": []
    },
    "kernelspec": {
      "display_name": "Python 3",
      "name": "python3"
    },
    "language_info": {
      "name": "python"
    }
  },
  "nbformat": 4,
  "nbformat_minor": 0
}
