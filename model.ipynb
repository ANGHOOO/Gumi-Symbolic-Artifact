{
  "nbformat": 4,
  "nbformat_minor": 0,
  "metadata": {
    "colab": {
      "provenance": []
    },
    "kernelspec": {
      "name": "python3",
      "display_name": "Python 3"
    },
    "language_info": {
      "name": "python"
    },
    "accelerator": "GPU",
    "gpuClass": "standard"
  },
  "cells": [
    {
      "cell_type": "markdown",
      "source": [
        "경로 설정하기"
      ],
      "metadata": {
        "id": "n0asnPia9W38"
      }
    },
    {
      "cell_type": "code",
      "execution_count": null,
      "metadata": {
        "collapsed": true,
        "id": "0pFzT3O99EsU",
        "colab": {
          "base_uri": "https://localhost:8080/"
        },
        "outputId": "87320ae6-ce13-4e61-aa92-bc8fdf7513f4"
      },
      "outputs": [
        {
          "output_type": "stream",
          "name": "stdout",
          "text": [
            "Mounted at /content/drive/\n"
          ]
        }
      ],
      "source": [
        "import pandas as pd\n",
        "import re\n",
        "import os\n",
        "import warnings\n",
        "warnings.filterwarnings('ignore')\n",
        "from google.colab import drive\n",
        "drive.mount('/content/drive/')"
      ]
    },
    {
      "cell_type": "code",
      "source": [
        "cd /content/drive/MyDrive/구미시 뉴스기사 분류"
      ],
      "metadata": {
        "id": "qdmB59Ip9f8_",
        "colab": {
          "base_uri": "https://localhost:8080/"
        },
        "outputId": "080bfdef-7d31-476d-aaef-94279fcf6479"
      },
      "execution_count": null,
      "outputs": [
        {
          "output_type": "stream",
          "name": "stdout",
          "text": [
            "/content/drive/MyDrive/구미시 뉴스기사 분류\n"
          ]
        }
      ]
    },
    {
      "cell_type": "code",
      "source": [
        "# 크롤링한 뉴스기사 파일 업로드 후 불러오기\n",
        "df = pd.read_excel('NewsResult_20180101-20221120.xlsx')"
      ],
      "metadata": {
        "id": "T_2bobYA-cUx"
      },
      "execution_count": null,
      "outputs": []
    },
    {
      "cell_type": "markdown",
      "source": [
        "뉴스기사 데이터 전처리"
      ],
      "metadata": {
        "id": "SK-BHpGhAn2-"
      }
    },
    {
      "cell_type": "code",
      "source": [
        "# 뉴스기사 전처리\n",
        "p = re.compile('[^ ㄱ-ㅣ가-힣+]')\n",
        "\n",
        "def remove_special_characters(sentence):\n",
        "    sentence = p.sub(' ',sentence)\n",
        "    sentence = ' '.join(sentence.split())\n",
        "    return sentence\n",
        "\n",
        "df['전처리기사'] = df['본문'].map(remove_special_characters)\n",
        "df['전처리기사'] = df['전처리기사'].map(lambda x: x.replace('대구', '대구시'))\n",
        "df['전처리기사'] = df['전처리기사'].map(lambda x: x.replace('대구시시', '대구시'))"
      ],
      "metadata": {
        "id": "az0DdfhT-0C7"
      },
      "execution_count": null,
      "outputs": []
    },
    {
      "cell_type": "markdown",
      "source": [
        "전체 워드클라우드"
      ],
      "metadata": {
        "id": "GkDpIzetAv--"
      }
    },
    {
      "cell_type": "code",
      "source": [
        "#@title\n",
        "%%bash\n",
        "apt-get update\n",
        "apt-get install g++ openjdk-8-jdk python-dev python3-dev\n",
        "pip3 install JPype1\n",
        "pip3 install konlpy"
      ],
      "metadata": {
        "id": "2cAaCg1_BBrh",
        "colab": {
          "base_uri": "https://localhost:8080/"
        },
        "outputId": "acf7633d-2b3e-4ec2-f694-eb1ebc35ce16"
      },
      "execution_count": null,
      "outputs": [
        {
          "output_type": "stream",
          "name": "stdout",
          "text": [
            "Hit:1 https://cloud.r-project.org/bin/linux/ubuntu bionic-cran40/ InRelease\n",
            "Hit:2 http://archive.ubuntu.com/ubuntu bionic InRelease\n",
            "Get:3 http://security.ubuntu.com/ubuntu bionic-security InRelease [88.7 kB]\n",
            "Ign:4 https://developer.download.nvidia.com/compute/machine-learning/repos/ubuntu1804/x86_64  InRelease\n",
            "Hit:5 https://developer.download.nvidia.com/compute/cuda/repos/ubuntu1804/x86_64  InRelease\n",
            "Hit:6 http://ppa.launchpad.net/c2d4u.team/c2d4u4.0+/ubuntu bionic InRelease\n",
            "Hit:7 https://developer.download.nvidia.com/compute/machine-learning/repos/ubuntu1804/x86_64  Release\n",
            "Get:8 http://archive.ubuntu.com/ubuntu bionic-updates InRelease [88.7 kB]\n",
            "Hit:9 http://ppa.launchpad.net/cran/libgit2/ubuntu bionic InRelease\n",
            "Hit:10 http://ppa.launchpad.net/deadsnakes/ppa/ubuntu bionic InRelease\n",
            "Get:11 http://archive.ubuntu.com/ubuntu bionic-backports InRelease [83.3 kB]\n",
            "Hit:12 http://ppa.launchpad.net/graphics-drivers/ppa/ubuntu bionic InRelease\n",
            "Fetched 261 kB in 3s (88.4 kB/s)\n",
            "Reading package lists...\n",
            "Reading package lists...\n",
            "Building dependency tree...\n",
            "Reading state information...\n",
            "python-dev is already the newest version (2.7.15~rc1-1).\n",
            "g++ is already the newest version (4:7.4.0-1ubuntu2.3).\n",
            "python3-dev is already the newest version (3.6.7-1~18.04).\n",
            "openjdk-8-jdk is already the newest version (8u352-ga-1~18.04).\n",
            "The following package was automatically installed and is no longer required:\n",
            "  libnvidia-common-460\n",
            "Use 'apt autoremove' to remove it.\n",
            "0 upgraded, 0 newly installed, 0 to remove and 5 not upgraded.\n",
            "Looking in indexes: https://pypi.org/simple, https://us-python.pkg.dev/colab-wheels/public/simple/\n",
            "Requirement already satisfied: JPype1 in /usr/local/lib/python3.7/dist-packages (1.4.1)\n",
            "Requirement already satisfied: packaging in /usr/local/lib/python3.7/dist-packages (from JPype1) (21.3)\n",
            "Requirement already satisfied: typing-extensions in /usr/local/lib/python3.7/dist-packages (from JPype1) (4.1.1)\n",
            "Requirement already satisfied: pyparsing!=3.0.5,>=2.0.2 in /usr/local/lib/python3.7/dist-packages (from packaging->JPype1) (3.0.9)\n",
            "Looking in indexes: https://pypi.org/simple, https://us-python.pkg.dev/colab-wheels/public/simple/\n",
            "Requirement already satisfied: konlpy in /usr/local/lib/python3.7/dist-packages (0.6.0)\n",
            "Requirement already satisfied: JPype1>=0.7.0 in /usr/local/lib/python3.7/dist-packages (from konlpy) (1.4.1)\n",
            "Requirement already satisfied: lxml>=4.1.0 in /usr/local/lib/python3.7/dist-packages (from konlpy) (4.9.1)\n",
            "Requirement already satisfied: numpy>=1.6 in /usr/local/lib/python3.7/dist-packages (from konlpy) (1.21.6)\n",
            "Requirement already satisfied: packaging in /usr/local/lib/python3.7/dist-packages (from JPype1>=0.7.0->konlpy) (21.3)\n",
            "Requirement already satisfied: typing-extensions in /usr/local/lib/python3.7/dist-packages (from JPype1>=0.7.0->konlpy) (4.1.1)\n",
            "Requirement already satisfied: pyparsing!=3.0.5,>=2.0.2 in /usr/local/lib/python3.7/dist-packages (from packaging->JPype1>=0.7.0->konlpy) (3.0.9)\n"
          ]
        }
      ]
    },
    {
      "cell_type": "code",
      "source": [
        "#@title\n",
        "%env JAVA_HOME \"/usr/lib/jvm/java-8-openjdk-amd64\""
      ],
      "metadata": {
        "id": "pMkjKN_WBBg1",
        "colab": {
          "base_uri": "https://localhost:8080/"
        },
        "outputId": "90f30078-c64d-45a9-b4a4-3c7c0eae4a1e"
      },
      "execution_count": null,
      "outputs": [
        {
          "output_type": "stream",
          "name": "stdout",
          "text": [
            "env: JAVA_HOME=\"/usr/lib/jvm/java-8-openjdk-amd64\"\n"
          ]
        }
      ]
    },
    {
      "cell_type": "code",
      "source": [
        "import sys\n",
        "from wordcloud import WordCloud\n",
        "from konlpy.tag import Twitter\n",
        "from collections import Counter\n",
        "from nltk.corpus import stopwords\n",
        "from nltk.tokenize import word_tokenize\n",
        "from PIL import *\n",
        "import nltk\n",
        "import numpy as np\n",
        "nltk.download('punkt')"
      ],
      "metadata": {
        "id": "WlSn5YJ1ARSj",
        "colab": {
          "base_uri": "https://localhost:8080/"
        },
        "outputId": "ade6a4e2-f970-41e3-d070-63d5fcd800ea"
      },
      "execution_count": null,
      "outputs": [
        {
          "output_type": "stream",
          "name": "stderr",
          "text": [
            "[nltk_data] Downloading package punkt to /root/nltk_data...\n",
            "[nltk_data]   Package punkt is already up-to-date!\n"
          ]
        },
        {
          "output_type": "execute_result",
          "data": {
            "text/plain": [
              "True"
            ]
          },
          "metadata": {},
          "execution_count": 7
        }
      ]
    },
    {
      "cell_type": "code",
      "source": [
        "korean_stopwords_path = \"/content/drive/MyDrive/구미시 뉴스기사 분류/data/korean_stopwords.txt\"\n",
        "\n",
        "with open(korean_stopwords_path, encoding = 'utf-8') as f:\n",
        "    stopwords = f.readlines()\n",
        "stopwords = [x.strip() for x in stopwords]"
      ],
      "metadata": {
        "id": "SyuLRg_ECJlW"
      },
      "execution_count": null,
      "outputs": []
    },
    {
      "cell_type": "code",
      "source": [
        "def remove_stopwords(sentence):\n",
        "    word_tokens = word_tokenize(sentence)\n",
        "    word_list = []\n",
        "\n",
        "    for word in word_tokens:\n",
        "        if word not in stopwords:\n",
        "            if word[:2] != '구미' and word[:2] != '경북':\n",
        "                word_list.append(word)\n",
        "        sentence = ' '.join(word_list)\n",
        "    return sentence\n",
        "\n",
        "df['불용어제거기사'] = df['전처리기사'].map(remove_stopwords)"
      ],
      "metadata": {
        "id": "HDbSK1NyDQxU"
      },
      "execution_count": null,
      "outputs": []
    },
    {
      "cell_type": "code",
      "source": [
        "df['전처리기사']"
      ],
      "metadata": {
        "colab": {
          "base_uri": "https://localhost:8080/"
        },
        "id": "69ijyjyrIGNJ",
        "outputId": "dde086e0-13af-4176-988d-39227c4add55"
      },
      "execution_count": null,
      "outputs": [
        {
          "output_type": "execute_result",
          "data": {
            "text/plain": [
              "0        이영 중소벤처기업부 장관이 지난 일 구미를 방문했다 이 장관의 이번 방문은 구미시의...\n",
              "1        이헌승 국회 국방위원회 위원장이 일 방산 투자 활기를 띠고 있는 경북 구미를 방문해...\n",
              "2        구미시 금오공대 한국산업단지공단은 일 금오공대에서 경북 구미 강소연구개발특구 육성사...\n",
              "3        아시아경제 영남취재본부 김용우 기자 구미시는 일 금오공과대학교에서 김장호 구미시장 ...\n",
              "4        순천향대 구미병원은 일 구미 호텔금오산에서 박준용 구미시의사회장과 협력 병 의원 관...\n",
              "                               ...                        \n",
              "19318    존경하는 만 구미시민 여러분 년 무술년 새해가 밝았습니다 우리에게 가장 친숙한 동물...\n",
              "19319    인사 대구시 중구청 급 전보 도시재생과장 김명주 관광자원과장 김순희 일자리경제과장 ...\n",
              "19320    구미대 유아교육과 학생들은 지난달 일 구미 김천 지역 어린이를 위한 행사 이쁘동이제...\n",
              "19321    김진수 기자 올해 입주 물량이 년대 이후 최대 규모인 만 가구에 이 를 것으로 예상...\n",
              "19322    년 국제신문 신춘문예 개 부문 당선자와 당선작이 다음과 같이 선정됐습니다 당선작과 ...\n",
              "Name: 전처리기사, Length: 19323, dtype: object"
            ]
          },
          "metadata": {},
          "execution_count": 35
        }
      ]
    },
    {
      "cell_type": "code",
      "source": [
        "df['불용어제거기사']"
      ],
      "metadata": {
        "colab": {
          "base_uri": "https://localhost:8080/"
        },
        "id": "x8CPLzeHII5b",
        "outputId": "57e60c78-122d-4e2e-dfd1-f84dd93879a0"
      },
      "execution_count": null,
      "outputs": [
        {
          "output_type": "execute_result",
          "data": {
            "text/plain": [
              "0        이영 중소벤처기업부 장관이 방문했다 장관의 방문은 반도체특구 지정과 지역중소기업의 ...\n",
              "1        이헌승 국회 국방위원회 위원장이 방산 투자 활기를 띠고 있는 방문해 방산업체 유관 ...\n",
              "2        금오공대 한국산업단지공단은 금오공대에서 강소연구개발특구 육성사업 중간보고 간담회를 ...\n",
              "3        아시아경제 영남취재본부 김용우 기자 금오공과대학교에서 김장호 곽호상 금오공대 총장 ...\n",
              "4        순천향대 호텔금오산에서 박준용 협력 병 의원 관계자 명이 참석한 가운데 개원의 연수...\n",
              "                               ...                        \n",
              "19318    존경하는 만 무술년 새해가 밝았습니다 우리에게 가장 친숙한 동물이자 액운을 물리치는...\n",
              "19319    인사 대구시 중구청 급 전보 도시재생과장 김명주 관광자원과장 김순희 일자리경제과장 ...\n",
              "19320    유아교육과 학생들은 지난달 김천 지역 어린이를 위한 행사 이쁘동이제 통해 모금한 수...\n",
              "19321    김진수 기자 올해 입주 물량이 년대 이후 최대 규모인 만 가구에 것으로 예상되면서 ...\n",
              "19322    국제신문 신춘문예 개 부문 당선자와 당선작이 다음과 선정됐습니다 당선작과 당선소감 ...\n",
              "Name: 불용어제거기사, Length: 19323, dtype: object"
            ]
          },
          "metadata": {},
          "execution_count": 38
        }
      ]
    },
    {
      "cell_type": "code",
      "source": [
        "news = str(df['불용어제거기사'].values)\n",
        "twitter = Twitter()\n",
        "\n",
        "sentences_tag = []\n",
        "sentences_tag = twitter.pos(news)\n",
        "\n",
        "noun_adj_list = []\n",
        "\n",
        "for word, tag in sentences_tag:\n",
        "    if tag in ['Noun', 'Adjective'] and len(str(word)) > 1:\n",
        "        noun_adj_list.append(word)\n",
        "\n",
        "counts = Counter(noun_adj_list)\n",
        "tags = counts.most_common(100)\n",
        "cand_mask = np.array(Image.open('circle.png'))\n",
        "\n",
        "wc = WordCloud(font_path = '/content/drive/MyDrive/구미시 뉴스기사 분류/data/NanumPen.ttf', background_color = 'white', mask = cand_mask, width = 500, height = 500)\n",
        "cloud = wc.generate_from_frequencies(dict(tags))\n",
        "\n",
        "cloud.to_file('gumi_news.png')"
      ],
      "metadata": {
        "id": "REwFMQCYDh1p",
        "colab": {
          "base_uri": "https://localhost:8080/"
        },
        "outputId": "3a36fbe5-54d0-481e-8949-6fd00261bc07"
      },
      "execution_count": null,
      "outputs": [
        {
          "output_type": "execute_result",
          "data": {
            "text/plain": [
              "<wordcloud.wordcloud.WordCloud at 0x7f1157441090>"
            ]
          },
          "metadata": {},
          "execution_count": 39
        }
      ]
    },
    {
      "cell_type": "markdown",
      "source": [
        "뉴스 기사 긍/부정 분류"
      ],
      "metadata": {
        "id": "h7B00lqzFkkW"
      }
    },
    {
      "cell_type": "code",
      "source": [
        "#@title\n",
        "!pip install transformers\n",
        "!pip install tensorflow_addons"
      ],
      "metadata": {
        "id": "ADX7rmhoFP_r",
        "colab": {
          "base_uri": "https://localhost:8080/"
        },
        "outputId": "6e2157e6-5f5c-474e-8f52-9c90a8b44922"
      },
      "execution_count": null,
      "outputs": [
        {
          "output_type": "stream",
          "name": "stdout",
          "text": [
            "Looking in indexes: https://pypi.org/simple, https://us-python.pkg.dev/colab-wheels/public/simple/\n",
            "Requirement already satisfied: transformers in /usr/local/lib/python3.7/dist-packages (4.24.0)\n",
            "Requirement already satisfied: tokenizers!=0.11.3,<0.14,>=0.11.1 in /usr/local/lib/python3.7/dist-packages (from transformers) (0.13.2)\n",
            "Requirement already satisfied: pyyaml>=5.1 in /usr/local/lib/python3.7/dist-packages (from transformers) (6.0)\n",
            "Requirement already satisfied: importlib-metadata in /usr/local/lib/python3.7/dist-packages (from transformers) (4.13.0)\n",
            "Requirement already satisfied: filelock in /usr/local/lib/python3.7/dist-packages (from transformers) (3.8.0)\n",
            "Requirement already satisfied: regex!=2019.12.17 in /usr/local/lib/python3.7/dist-packages (from transformers) (2022.6.2)\n",
            "Requirement already satisfied: huggingface-hub<1.0,>=0.10.0 in /usr/local/lib/python3.7/dist-packages (from transformers) (0.11.0)\n",
            "Requirement already satisfied: requests in /usr/local/lib/python3.7/dist-packages (from transformers) (2.23.0)\n",
            "Requirement already satisfied: numpy>=1.17 in /usr/local/lib/python3.7/dist-packages (from transformers) (1.21.6)\n",
            "Requirement already satisfied: tqdm>=4.27 in /usr/local/lib/python3.7/dist-packages (from transformers) (4.64.1)\n",
            "Requirement already satisfied: packaging>=20.0 in /usr/local/lib/python3.7/dist-packages (from transformers) (21.3)\n",
            "Requirement already satisfied: typing-extensions>=3.7.4.3 in /usr/local/lib/python3.7/dist-packages (from huggingface-hub<1.0,>=0.10.0->transformers) (4.1.1)\n",
            "Requirement already satisfied: pyparsing!=3.0.5,>=2.0.2 in /usr/local/lib/python3.7/dist-packages (from packaging>=20.0->transformers) (3.0.9)\n",
            "Requirement already satisfied: zipp>=0.5 in /usr/local/lib/python3.7/dist-packages (from importlib-metadata->transformers) (3.10.0)\n",
            "Requirement already satisfied: idna<3,>=2.5 in /usr/local/lib/python3.7/dist-packages (from requests->transformers) (2.10)\n",
            "Requirement already satisfied: urllib3!=1.25.0,!=1.25.1,<1.26,>=1.21.1 in /usr/local/lib/python3.7/dist-packages (from requests->transformers) (1.24.3)\n",
            "Requirement already satisfied: certifi>=2017.4.17 in /usr/local/lib/python3.7/dist-packages (from requests->transformers) (2022.9.24)\n",
            "Requirement already satisfied: chardet<4,>=3.0.2 in /usr/local/lib/python3.7/dist-packages (from requests->transformers) (3.0.4)\n",
            "Looking in indexes: https://pypi.org/simple, https://us-python.pkg.dev/colab-wheels/public/simple/\n",
            "Requirement already satisfied: tensorflow_addons in /usr/local/lib/python3.7/dist-packages (0.18.0)\n",
            "Requirement already satisfied: typeguard>=2.7 in /usr/local/lib/python3.7/dist-packages (from tensorflow_addons) (2.7.1)\n",
            "Requirement already satisfied: packaging in /usr/local/lib/python3.7/dist-packages (from tensorflow_addons) (21.3)\n",
            "Requirement already satisfied: pyparsing!=3.0.5,>=2.0.2 in /usr/local/lib/python3.7/dist-packages (from packaging->tensorflow_addons) (3.0.9)\n"
          ]
        }
      ]
    },
    {
      "cell_type": "code",
      "source": [
        "import os\n",
        "import pandas as pd\n",
        "import numpy as np\n",
        "import re\n",
        "from tqdm import tqdm\n",
        "import urllib.request\n",
        "import seaborn as sns\n",
        "import matplotlib.pyplot as plt\n",
        "import tensorflow_addons as tfa\n",
        "import tensorflow as tf\n",
        "from tensorflow.keras.callbacks import EarlyStopping, ModelCheckpoint\n",
        "from transformers import BertTokenizer, TFBertForSequenceClassification\n",
        "from sklearn.model_selection import train_test_split\n",
        "from sklearn.metrics import accuracy_score, f1_score, precision_score, recall_score, \\\n",
        "                            roc_auc_score, confusion_matrix, classification_report, \\\n",
        "                            matthews_corrcoef, cohen_kappa_score, log_loss"
      ],
      "metadata": {
        "id": "0YbeZfgCFuOX"
      },
      "execution_count": null,
      "outputs": []
    },
    {
      "cell_type": "markdown",
      "source": [
        "**KLUE** BERT 사용"
      ],
      "metadata": {
        "id": "roAJ_E5FF_QL"
      }
    },
    {
      "cell_type": "code",
      "source": [
        "MODEL_NAME = \"klue/bert-base\"\n",
        "model = TFBertForSequenceClassification.from_pretrained(MODEL_NAME, num_labels=3, from_pt=True)\n",
        "tokenizer = BertTokenizer.from_pretrained(MODEL_NAME)"
      ],
      "metadata": {
        "id": "EOv1L5XNF3r2",
        "colab": {
          "base_uri": "https://localhost:8080/"
        },
        "outputId": "526b46d0-d23d-4769-99f6-b9f4443442f7"
      },
      "execution_count": null,
      "outputs": [
        {
          "output_type": "stream",
          "name": "stderr",
          "text": [
            "Some weights of the PyTorch model were not used when initializing the TF 2.0 model TFBertForSequenceClassification: ['bert.embeddings.position_ids']\n",
            "- This IS expected if you are initializing TFBertForSequenceClassification from a PyTorch model trained on another task or with another architecture (e.g. initializing a TFBertForSequenceClassification model from a BertForPreTraining model).\n",
            "- This IS NOT expected if you are initializing TFBertForSequenceClassification from a PyTorch model that you expect to be exactly identical (e.g. initializing a TFBertForSequenceClassification model from a BertForSequenceClassification model).\n",
            "Some weights or buffers of the TF 2.0 model TFBertForSequenceClassification were not initialized from the PyTorch model and are newly initialized: ['classifier.weight', 'classifier.bias']\n",
            "You should probably TRAIN this model on a down-stream task to be able to use it for predictions and inference.\n"
          ]
        }
      ]
    },
    {
      "cell_type": "markdown",
      "source": [
        "모델 학습을 위한 데이터 전처리"
      ],
      "metadata": {
        "id": "KjeI-zucGuiL"
      }
    },
    {
      "cell_type": "code",
      "source": [
        "DATASET_URL = \"https://raw.githubusercontent.com/ukairia777/finance_sentiment_corpus/main/finance_data.csv\"\n",
        "DATASET_NAME = \"finance_data.csv\"\n",
        "\n",
        "urllib.request.urlretrieve(DATASET_URL,\n",
        "                           filename = DATASET_NAME\n",
        "                           )\n",
        "\n",
        "dataset = pd.read_csv(DATASET_NAME)\n",
        "\n",
        "del dataset['sentence']\n",
        "\n",
        "dataset['labels'] = dataset['labels'].replace(['neutral', 'positive', 'negative'],[0, 1, 2])\n",
        "\n",
        "dataset[dataset['kor_sentence'].duplicated()]\n",
        "\n",
        "DATASET_PREP_FILE = './data/dataset_prep.csv'\n",
        "# 중복 데이터 제거\n",
        "dataset.drop_duplicates(subset = ['kor_sentence'], inplace = True)\n",
        "dataset.to_csv(DATASET_PREP_FILE) # 구글 드라이브 내 data 폴더에 저장\n",
        "\n",
        "LABEL_NUM_FILE = './figure/label_number.png'\n",
        "dataset['labels'].value_counts().plot(kind = 'bar')\n",
        "plt.xlabel(\"Label\")\n",
        "plt.ylabel(\"Number\")\n",
        "plt.savefig(LABEL_NUM_FILE) # 구글 드라이브 내 figure 폴더에 저장\n",
        "\n",
        "dataset['labels'].value_counts(normalize = True)"
      ],
      "metadata": {
        "id": "JSLTImToGKsk",
        "colab": {
          "base_uri": "https://localhost:8080/",
          "height": 352
        },
        "outputId": "536e770a-2721-400a-9541-fde2d6fbd09f"
      },
      "execution_count": null,
      "outputs": [
        {
          "output_type": "execute_result",
          "data": {
            "text/plain": [
              "0    0.592708\n",
              "1    0.282163\n",
              "2    0.125129\n",
              "Name: labels, dtype: float64"
            ]
          },
          "metadata": {},
          "execution_count": 16
        },
        {
          "output_type": "display_data",
          "data": {
            "text/plain": [
              "<Figure size 432x288 with 1 Axes>"
            ],
            "image/png": "[encoded data removed]"
          },
          "metadata": {
            "needs_background": "light"
          }
        }
      ]
    },
    {
      "cell_type": "markdown",
      "source": [
        "입 출력 데이터 분리"
      ],
      "metadata": {
        "id": "mXMrGhwHHIu6"
      }
    },
    {
      "cell_type": "code",
      "source": [
        "# 입출력 데이터 분리\n",
        "X_data = dataset['kor_sentence']\n",
        "y_data = dataset['labels']\n",
        "\n",
        "TEST_SIZE = 0.2 # Train: Test = 8 :2 분리\n",
        "RANDOM_STATE = 42\n",
        "X_train, X_test, y_train, y_test = train_test_split(X_data, y_data,\n",
        "                                                    test_size = TEST_SIZE,\n",
        "                                                    random_state = RANDOM_STATE,\n",
        "                                                    stratify = y_data)"
      ],
      "metadata": {
        "id": "G6_Wu78RHCCE"
      },
      "execution_count": null,
      "outputs": []
    },
    {
      "cell_type": "markdown",
      "source": [
        "BERT 입력용 포맷으로 변경"
      ],
      "metadata": {
        "id": "twPxUw7HHeMj"
      }
    },
    {
      "cell_type": "code",
      "source": [
        "# 입력 데이터(문장) 길이 제한\n",
        "MAX_SEQ_LEN = 64\n",
        "\n",
        "def convert_data(X_data, y_data):\n",
        "    # BERT 입력으로 들어가는 token, mask, segment, target 저장용 리스트\n",
        "    tokens, masks, segments, targets = [], [], [], []\n",
        "\n",
        "    for X, y in tqdm(zip(X_data, y_data)):\n",
        "        # token: 입력 문장 토큰화\n",
        "        token = tokenizer.encode(X, truncation = True, padding = 'max_length', max_length = MAX_SEQ_LEN)\n",
        "\n",
        "        # Mask: 토큰화한 문장 내 패딩이 아닌 경우 1, 패딩인 경우 0으로 초기화\n",
        "        num_zeros = token.count(0)\n",
        "        mask = [1] * (MAX_SEQ_LEN - num_zeros) + [0] * num_zeros\n",
        "\n",
        "        # segment: 문장 전후관계 구분: 오직 한 문장이므로 모두 0으로 초기화\n",
        "        segment = [0]*MAX_SEQ_LEN\n",
        "\n",
        "        tokens.append(token)\n",
        "        masks.append(mask)\n",
        "        segments.append(segment)\n",
        "        targets.append(y)\n",
        "\n",
        "    # numpy array로 저장\n",
        "    tokens = np.array(tokens)\n",
        "    masks = np.array(masks)\n",
        "    segments = np.array(segments)\n",
        "    targets = np.array(targets)\n",
        "\n",
        "    return [tokens, masks, segments], targets"
      ],
      "metadata": {
        "id": "0VuYV0g_HRco"
      },
      "execution_count": null,
      "outputs": []
    },
    {
      "cell_type": "markdown",
      "source": [
        "데이터를 BERT Input 타입에 맞게 변환"
      ],
      "metadata": {
        "id": "if4_hq15HpOd"
      }
    },
    {
      "cell_type": "code",
      "source": [
        "# train 데이터를 Bert의 Input 타입에 맞게 변환\n",
        "train_x, train_y = convert_data(X_train, y_train)\n",
        "\n",
        "# test 데이터를 Bert의 Input 타입에 맞게 변환\n",
        "test_x, test_y = convert_data(X_test, y_test)\n",
        "\n",
        "# token, mask, segment 입력 정의\n",
        "token_inputs = tf.keras.layers.Input((MAX_SEQ_LEN,), dtype = tf.int32, name = 'input_word_ids')\n",
        "mask_inputs = tf.keras.layers.Input((MAX_SEQ_LEN,), dtype = tf.int32, name = 'input_masks')\n",
        "segment_inputs = tf.keras.layers.Input((MAX_SEQ_LEN,), dtype = tf.int32, name = 'input_segment')\n",
        "bert_outputs = model([token_inputs, mask_inputs, segment_inputs])\n",
        "\n",
        "# token, mask, segment 입력 정의\n",
        "token_inputs = tf.keras.layers.Input((MAX_SEQ_LEN,), dtype = tf.int32, name = 'input_word_ids')\n",
        "mask_inputs = tf.keras.layers.Input((MAX_SEQ_LEN,), dtype = tf.int32, name = 'input_masks')\n",
        "segment_inputs = tf.keras.layers.Input((MAX_SEQ_LEN,), dtype = tf.int32, name = 'input_segment')\n",
        "bert_outputs = model([token_inputs, mask_inputs, segment_inputs])\n",
        "\n",
        "bert_output = bert_outputs[0]"
      ],
      "metadata": {
        "id": "veuNc0UOHobK",
        "colab": {
          "base_uri": "https://localhost:8080/"
        },
        "outputId": "0479031f-b993-4a7f-9cb4-b785c890f463"
      },
      "execution_count": null,
      "outputs": [
        {
          "output_type": "stream",
          "name": "stderr",
          "text": [
            "3861it [00:03, 1198.41it/s]\n",
            "966it [00:01, 796.29it/s]\n"
          ]
        }
      ]
    },
    {
      "cell_type": "markdown",
      "source": [
        "하이퍼파라미터 설정"
      ],
      "metadata": {
        "id": "dXejD6tWIAs8"
      }
    },
    {
      "cell_type": "code",
      "source": [
        "DROPOUT_RATE = 0.5\n",
        "NUM_CLASS = 3\n",
        "dropout = tf.keras.layers.Dropout(DROPOUT_RATE)(bert_output)\n",
        "# Multi-class classification 문제이므로 activation function은 softmax로 설정\n",
        "sentiment_layer = tf.keras.layers.Dense(NUM_CLASS, activation='softmax', kernel_initializer = tf.keras.initializers.TruncatedNormal(stddev=0.02))(dropout)\n",
        "sentiment_model = tf.keras.Model([token_inputs, mask_inputs, segment_inputs], sentiment_layer)\n",
        "\n",
        "# 옵티마이저 Rectified Adam 하이퍼파리미터 조정\n",
        "OPTIMIZER_NAME = 'RAdam'\n",
        "LEARNING_RATE = 5e-5\n",
        "TOTAL_STEPS = 10000\n",
        "MIN_LR = 1e-5\n",
        "WARMUP_PROPORTION = 0.1\n",
        "EPSILON = 1e-8\n",
        "CLIPNORM = 1.0\n",
        "optimizer = tfa.optimizers.RectifiedAdam(learning_rate = LEARNING_RATE,\n",
        "                                          total_steps = TOTAL_STEPS,\n",
        "                                          warmup_proportion = WARMUP_PROPORTION,\n",
        "                                          min_lr = MIN_LR,\n",
        "                                          epsilon = EPSILON,\n",
        "                                          clipnorm = CLIPNORM)\n",
        "\n",
        "# 감정분류 모델 컴파일\n",
        "sentiment_model.compile(optimizer = optimizer,\n",
        "                        loss = tf.keras.losses.SparseCategoricalCrossentropy(),\n",
        "                        metrics = ['accuracy'])\n",
        "\n",
        "MIN_DELTA = 1e-3\n",
        "PATIENCE = 5\n",
        "\n",
        "early_stopping = EarlyStopping(\n",
        "    monitor = \"val_accuracy\",\n",
        "    min_delta = MIN_DELTA,\n",
        "    patience = PATIENCE)\n",
        "\n",
        "# 최고 성능의 모델 파일을 저장할 이름과 경로 설정\n",
        "BEST_MODEL_NAME = './model/best_model.h5'\n",
        "model_checkpoint = ModelCheckpoint(\n",
        "    filepath = BEST_MODEL_NAME,\n",
        "    monitor = \"val_loss\",\n",
        "    mode = \"min\",\n",
        "    save_best_only = True, # 성능 향상 시에만 모델 저장\n",
        "    verbose = 1\n",
        ")\n",
        "\n",
        "callbacks = [early_stopping, model_checkpoint]\n",
        "\n",
        "device_name = tf.test.gpu_device_name()\n",
        "if device_name == '/device:GPU:0':\n",
        "  print(\"GPU 작동 중\")\n",
        "  mirrored_strategy = tf.distribute.MirroredStrategy()\n",
        "else:\n",
        "  print(\"GPU 미작동 중\")"
      ],
      "metadata": {
        "id": "lATb2C5RH24b",
        "colab": {
          "base_uri": "https://localhost:8080/"
        },
        "outputId": "1433fbeb-a1cc-4a66-8404-ec35161e6748"
      },
      "execution_count": null,
      "outputs": [
        {
          "output_type": "stream",
          "name": "stdout",
          "text": [
            "GPU 작동 중\n"
          ]
        }
      ]
    },
    {
      "cell_type": "markdown",
      "source": [
        "뉴스기사 감성분석 모델 학습"
      ],
      "metadata": {
        "id": "hLUOy4CHIMdg"
      }
    },
    {
      "cell_type": "code",
      "source": [
        "EPOCHS = 100\n",
        "BATCH_SZIE = 32\n",
        "\n",
        "sentiment_model.fit(train_x, train_y,\n",
        "                    epochs = EPOCHS,\n",
        "                    shuffle = True,\n",
        "                    batch_size = BATCH_SZIE,\n",
        "                    validation_data = (test_x, test_y),\n",
        "                    callbacks = callbacks\n",
        "                    )"
      ],
      "metadata": {
        "id": "B3-W0fdKIHK8",
        "colab": {
          "base_uri": "https://localhost:8080/"
        },
        "outputId": "918c4d7c-b3ba-4390-b8e1-3261c87f5b2a"
      },
      "execution_count": null,
      "outputs": [
        {
          "output_type": "stream",
          "name": "stdout",
          "text": [
            "Epoch 1/100\n",
            "121/121 [==============================] - ETA: 0s - loss: 1.0929 - accuracy: 0.4880\n",
            "Epoch 1: val_loss improved from inf to 1.08793, saving model to ./model/best_model.h5\n",
            "121/121 [==============================] - 103s 575ms/step - loss: 1.0929 - accuracy: 0.4880 - val_loss: 1.0879 - val_accuracy: 0.5901\n",
            "Epoch 2/100\n",
            "121/121 [==============================] - ETA: 0s - loss: 1.0764 - accuracy: 0.5403\n",
            "Epoch 2: val_loss improved from 1.08793 to 1.05796, saving model to ./model/best_model.h5\n",
            "121/121 [==============================] - 70s 576ms/step - loss: 1.0764 - accuracy: 0.5403 - val_loss: 1.0580 - val_accuracy: 0.5921\n",
            "Epoch 3/100\n",
            "121/121 [==============================] - ETA: 0s - loss: 1.0405 - accuracy: 0.5965\n",
            "Epoch 3: val_loss improved from 1.05796 to 1.00573, saving model to ./model/best_model.h5\n",
            "121/121 [==============================] - 71s 586ms/step - loss: 1.0405 - accuracy: 0.5965 - val_loss: 1.0057 - val_accuracy: 0.7567\n",
            "Epoch 4/100\n",
            "121/121 [==============================] - ETA: 0s - loss: 0.9836 - accuracy: 0.6946\n",
            "Epoch 4: val_loss improved from 1.00573 to 0.93977, saving model to ./model/best_model.h5\n",
            "121/121 [==============================] - 72s 592ms/step - loss: 0.9836 - accuracy: 0.6946 - val_loss: 0.9398 - val_accuracy: 0.8157\n",
            "Epoch 5/100\n",
            "121/121 [==============================] - ETA: 0s - loss: 0.9224 - accuracy: 0.7169\n",
            "Epoch 5: val_loss improved from 0.93977 to 0.87771, saving model to ./model/best_model.h5\n",
            "121/121 [==============================] - 72s 595ms/step - loss: 0.9224 - accuracy: 0.7169 - val_loss: 0.8777 - val_accuracy: 0.8199\n",
            "Epoch 6/100\n",
            "121/121 [==============================] - ETA: 0s - loss: 0.8506 - accuracy: 0.7690\n",
            "Epoch 6: val_loss improved from 0.87771 to 0.79447, saving model to ./model/best_model.h5\n",
            "121/121 [==============================] - 72s 595ms/step - loss: 0.8506 - accuracy: 0.7690 - val_loss: 0.7945 - val_accuracy: 0.8427\n",
            "Epoch 7/100\n",
            "121/121 [==============================] - ETA: 0s - loss: 0.7845 - accuracy: 0.7643\n",
            "Epoch 7: val_loss improved from 0.79447 to 0.73638, saving model to ./model/best_model.h5\n",
            "121/121 [==============================] - 72s 595ms/step - loss: 0.7845 - accuracy: 0.7643 - val_loss: 0.7364 - val_accuracy: 0.8209\n",
            "Epoch 8/100\n",
            "121/121 [==============================] - ETA: 0s - loss: 0.7127 - accuracy: 0.7739\n",
            "Epoch 8: val_loss improved from 0.73638 to 0.63991, saving model to ./model/best_model.h5\n",
            "121/121 [==============================] - 72s 598ms/step - loss: 0.7127 - accuracy: 0.7739 - val_loss: 0.6399 - val_accuracy: 0.8447\n",
            "Epoch 9/100\n",
            "121/121 [==============================] - ETA: 0s - loss: 0.6332 - accuracy: 0.7685\n",
            "Epoch 9: val_loss improved from 0.63991 to 0.54693, saving model to ./model/best_model.h5\n",
            "121/121 [==============================] - 73s 601ms/step - loss: 0.6332 - accuracy: 0.7685 - val_loss: 0.5469 - val_accuracy: 0.8644\n",
            "Epoch 10/100\n",
            "121/121 [==============================] - ETA: 0s - loss: 0.5741 - accuracy: 0.7710\n",
            "Epoch 10: val_loss improved from 0.54693 to 0.52013, saving model to ./model/best_model.h5\n",
            "121/121 [==============================] - 72s 599ms/step - loss: 0.5741 - accuracy: 0.7710 - val_loss: 0.5201 - val_accuracy: 0.8592\n",
            "Epoch 11/100\n",
            "121/121 [==============================] - ETA: 0s - loss: 0.5319 - accuracy: 0.7881\n",
            "Epoch 11: val_loss improved from 0.52013 to 0.51840, saving model to ./model/best_model.h5\n",
            "121/121 [==============================] - 72s 596ms/step - loss: 0.5319 - accuracy: 0.7881 - val_loss: 0.5184 - val_accuracy: 0.8458\n",
            "Epoch 12/100\n",
            "121/121 [==============================] - ETA: 0s - loss: 0.5188 - accuracy: 0.7855\n",
            "Epoch 12: val_loss improved from 0.51840 to 0.50150, saving model to ./model/best_model.h5\n",
            "121/121 [==============================] - 72s 598ms/step - loss: 0.5188 - accuracy: 0.7855 - val_loss: 0.5015 - val_accuracy: 0.8354\n",
            "Epoch 13/100\n",
            "121/121 [==============================] - ETA: 0s - loss: 0.4697 - accuracy: 0.7902\n",
            "Epoch 13: val_loss did not improve from 0.50150\n",
            "121/121 [==============================] - 60s 498ms/step - loss: 0.4697 - accuracy: 0.7902 - val_loss: 0.5166 - val_accuracy: 0.8375\n",
            "Epoch 14/100\n",
            "121/121 [==============================] - ETA: 0s - loss: 0.4409 - accuracy: 0.8055\n",
            "Epoch 14: val_loss did not improve from 0.50150\n",
            "121/121 [==============================] - 59s 491ms/step - loss: 0.4409 - accuracy: 0.8055 - val_loss: 0.5264 - val_accuracy: 0.8447\n"
          ]
        },
        {
          "output_type": "execute_result",
          "data": {
            "text/plain": [
              "<keras.callbacks.History at 0x7f1180307990>"
            ]
          },
          "metadata": {},
          "execution_count": 21
        }
      ]
    },
    {
      "cell_type": "markdown",
      "source": [
        "모델 호출 밑 결과"
      ],
      "metadata": {
        "id": "K0m8dtbfIeBI"
      }
    },
    {
      "cell_type": "code",
      "source": [
        "# 최고 성능의 모델 불러오기\n",
        "sentiment_model_best = tf.keras.models.load_model(BEST_MODEL_NAME,\n",
        "                                                  custom_objects={'TFBertForSequenceClassification': TFBertForSequenceClassification})\n",
        "\n",
        "# 모델이 예측한 라벨 도출\n",
        "predicted_value = sentiment_model_best.predict(test_x)\n",
        "predicted_label = np.argmax(predicted_value, axis = 1)\n",
        "\n",
        "# Classification Report 저장\n",
        "CL_REPORT_FILE = \"./metric/cl_report.csv\"\n",
        "\n",
        "cl_report = classification_report(test_y, predicted_label, output_dict = True)\n",
        "cl_report_df = pd.DataFrame(cl_report).transpose()\n",
        "cl_report_df = cl_report_df.round(3)\n",
        "cl_report_df.to_csv(CL_REPORT_FILE)\n",
        "print(cl_report_df)"
      ],
      "metadata": {
        "id": "p0yejYS4IYMF",
        "outputId": "f97dbfde-9ae4-4630-c275-175062260b3d",
        "colab": {
          "base_uri": "https://localhost:8080/"
        }
      },
      "execution_count": null,
      "outputs": [
        {
          "output_type": "stream",
          "name": "stdout",
          "text": [
            "31/31 [==============================] - 8s 136ms/step\n",
            "              precision  recall  f1-score  support\n",
            "0                 0.866   0.893     0.880  572.000\n",
            "1                 0.761   0.758     0.760  273.000\n",
            "2                 0.856   0.736     0.791  121.000\n",
            "accuracy          0.835   0.835     0.835    0.835\n",
            "macro avg         0.828   0.796     0.810  966.000\n",
            "weighted avg      0.835   0.835     0.835  966.000\n"
          ]
        }
      ]
    },
    {
      "cell_type": "markdown",
      "source": [
        "학습된 모델을 활용한 뉴스기사 긍/부정 분류"
      ],
      "metadata": {
        "id": "porhJRVsI25o"
      }
    },
    {
      "cell_type": "code",
      "source": [
        "def convert_news(X_data):\n",
        "    # BERT 입력으로 들어가는 token, mask, segment, target 저장용 리스트\n",
        "    tokens, masks, segments = [], [], []\n",
        "\n",
        "    for X in tqdm(X_data):\n",
        "        # token: 입력 문장 토큰화\n",
        "        token = tokenizer.encode(X, truncation = True, padding = 'max_length', max_length = MAX_SEQ_LEN)\n",
        "\n",
        "        # Mask: 토큰화한 문장 내 패딩이 아닌 경우 1, 패딩인 경우 0으로 초기화\n",
        "        num_zeros = token.count(0)\n",
        "        mask = [1] * (MAX_SEQ_LEN - num_zeros) + [0] * num_zeros\n",
        "\n",
        "        # segment: 문장 전후관계 구분: 오직 한 문장이므로 모두 0으로 초기화\n",
        "        segment = [0]*MAX_SEQ_LEN\n",
        "\n",
        "        tokens.append(token)\n",
        "        masks.append(mask)\n",
        "        segments.append(segment)\n",
        "\n",
        "    # numpy array로 저장\n",
        "    tokens = np.array(tokens)\n",
        "    masks = np.array(masks)\n",
        "    segments = np.array(segments)\n",
        "\n",
        "    return [tokens, masks, segments]"
      ],
      "metadata": {
        "id": "XAoHodgRIz1g"
      },
      "execution_count": null,
      "outputs": []
    },
    {
      "cell_type": "code",
      "source": [
        "news_test = convert_news(df['전처리기사'].values)\n",
        "news_predict = sentiment_model_best.predict(news_test)\n",
        "news_label = np.argmax(news_predict, axis = 1)"
      ],
      "metadata": {
        "id": "XYUCaLvtJKPD",
        "outputId": "d202e78e-1593-4d29-da66-9b66279dfbe0",
        "colab": {
          "base_uri": "https://localhost:8080/"
        }
      },
      "execution_count": null,
      "outputs": [
        {
          "output_type": "stream",
          "name": "stderr",
          "text": [
            "100%|██████████| 19323/19323 [00:16<00:00, 1165.64it/s]\n"
          ]
        },
        {
          "output_type": "stream",
          "name": "stdout",
          "text": [
            "604/604 [==============================] - 86s 142ms/step\n"
          ]
        }
      ]
    },
    {
      "cell_type": "markdown",
      "source": [
        "분류된 기사의 인덱스 추출"
      ],
      "metadata": {
        "id": "NRGu_jw0Jpts"
      }
    },
    {
      "cell_type": "code",
      "source": [
        "neutral_news_index = []\n",
        "pos_news_index = []\n",
        "neg_news_index = []\n",
        "index_value = 0\n",
        "\n",
        "for news in news_label:\n",
        "    if news == 1:\n",
        "        pos_news_index.append(index_value)\n",
        "        index_value += 1\n",
        "    elif news == 2:\n",
        "        neg_news_index.append(index_value)\n",
        "        index_value += 1\n",
        "    else:\n",
        "        neutral_news_index.append(index_value)\n",
        "        index_value += 1"
      ],
      "metadata": {
        "id": "AcV5TbCUJpbw"
      },
      "execution_count": null,
      "outputs": []
    },
    {
      "cell_type": "markdown",
      "source": [
        "긍/부정 기사 분류"
      ],
      "metadata": {
        "id": "9wwJ8cMxJxXF"
      }
    },
    {
      "cell_type": "code",
      "source": [
        "neutral_news = []\n",
        "pos_news = []\n",
        "neg_news = []\n",
        "\n",
        "for label in neutral_news_index:\n",
        "    neutral_news.append(df['전처리기사'][label])\n",
        "\n",
        "for label in pos_news_index:\n",
        "    pos_news.append(df['전처리기사'][label])\n",
        "\n",
        "for label in neg_news_index:\n",
        "    neg_news.append(df['전처리기사'][label])"
      ],
      "metadata": {
        "id": "a942cak0Jop0"
      },
      "execution_count": null,
      "outputs": []
    },
    {
      "cell_type": "code",
      "source": [
        "neutral_df = pd.DataFrame(neutral_news)\n",
        "pos_df = pd.DataFrame(pos_news)\n",
        "neg_df = pd.DataFrame(neg_news)\n",
        "\n",
        "neutral_df.to_csv('/content/drive/MyDrive/구미시 뉴스기사 분류/data/neutral_news.csv', sep = ',', encoding = 'utf-8-sig')\n",
        "pos_df.to_csv('/content/drive/MyDrive/구미시 뉴스기사 분류/data/positive_news.csv', sep = ',', encoding = 'utf-8-sig')\n",
        "neg_df.to_csv('/content/drive/MyDrive/구미시 뉴스기사 분류/data/negative_news.csv', sep = ',', encoding = 'utf-8-sig')"
      ],
      "metadata": {
        "id": "UEE8dAjEJ2bc"
      },
      "execution_count": null,
      "outputs": []
    },
    {
      "cell_type": "markdown",
      "source": [
        "긍/부정 기사 워드 클라우드"
      ],
      "metadata": {
        "id": "cpGwukIpKdVb"
      }
    },
    {
      "cell_type": "code",
      "source": [
        "neutral_df = pd.read_csv('/content/drive/MyDrive/구미시 뉴스기사 분류/data/neutral_news.csv')\n",
        "pos_df = pd.read_csv('/content/drive/MyDrive/구미시 뉴스기사 분류/data/positive_news.csv')\n",
        "neg_df = pd.read_csv('/content/drive/MyDrive/구미시 뉴스기사 분류/data/negative_news.csv')\n",
        "\n",
        "neutral_df['불용어제거기사'] = neutral_df['0'].map(remove_stopwords)\n",
        "pos_df['불용어제거기사'] = pos_df['0'].map(remove_stopwords)\n",
        "neg_df['불용어제거기사'] = neg_df['0'].map(remove_stopwords)"
      ],
      "metadata": {
        "id": "smvprqAqKeUi"
      },
      "execution_count": null,
      "outputs": []
    },
    {
      "cell_type": "code",
      "source": [
        "news = str(pos_df['불용어제거기사'].values)\n",
        "twitter = Twitter()\n",
        "\n",
        "sentences_tag = []\n",
        "sentences_tag = twitter.pos(news)\n",
        "\n",
        "noun_adj_list = []\n",
        "\n",
        "for word, tag in sentences_tag:\n",
        "    if tag in ['Noun', 'Adjective'] and len(str(word)) > 1:\n",
        "        noun_adj_list.append(word)\n",
        "\n",
        "counts = Counter(noun_adj_list)\n",
        "tags = counts.most_common(100)\n",
        "cand_mask = np.array(Image.open('circle.png'))\n",
        "\n",
        "wc = WordCloud(font_path = '/content/drive/MyDrive/구미시 뉴스기사 분류/data/NanumPen.ttf', background_color = 'white', mask = cand_mask, width = 500, height = 500)\n",
        "cloud = wc.generate_from_frequencies(dict(tags))\n",
        "\n",
        "cloud.to_file('gumi_positive_news.png')"
      ],
      "metadata": {
        "id": "VPQdiLXULQBD",
        "colab": {
          "base_uri": "https://localhost:8080/"
        },
        "outputId": "a4208128-49f5-48bc-8f7d-e67920900b8c"
      },
      "execution_count": null,
      "outputs": [
        {
          "output_type": "execute_result",
          "data": {
            "text/plain": [
              "<wordcloud.wordcloud.WordCloud at 0x7f1157676810>"
            ]
          },
          "metadata": {},
          "execution_count": 41
        }
      ]
    },
    {
      "cell_type": "code",
      "source": [
        "news = str(neg_df['불용어제거기사'].values)\n",
        "twitter = Twitter()\n",
        "\n",
        "sentences_tag = []\n",
        "sentences_tag = twitter.pos(news)\n",
        "\n",
        "noun_adj_list = []\n",
        "\n",
        "for word, tag in sentences_tag:\n",
        "    if tag in ['Noun', 'Adjective'] and len(str(word)) > 1:\n",
        "        noun_adj_list.append(word)\n",
        "\n",
        "counts = Counter(noun_adj_list)\n",
        "tags = counts.most_common(100)\n",
        "cand_mask = np.array(Image.open('circle.png'))\n",
        "\n",
        "wc = WordCloud(font_path = '/content/drive/MyDrive/구미시 뉴스기사 분류/data/NanumPen.ttf', background_color = 'white', mask = cand_mask, width = 500, height = 500)\n",
        "cloud = wc.generate_from_frequencies(dict(tags))\n",
        "\n",
        "cloud.to_file('gumi_negative_news.png')"
      ],
      "metadata": {
        "id": "AyFTTrrPLsUU",
        "colab": {
          "base_uri": "https://localhost:8080/"
        },
        "outputId": "3a7e5e7e-e8f9-469c-d176-a2638c1bc7be"
      },
      "execution_count": null,
      "outputs": [
        {
          "output_type": "execute_result",
          "data": {
            "text/plain": [
              "<wordcloud.wordcloud.WordCloud at 0x7f115734c790>"
            ]
          },
          "metadata": {},
          "execution_count": 42
        }
      ]
    },
    {
      "cell_type": "code",
      "source": [
        "news = str(neutral_df['불용어제거기사'].values)\n",
        "twitter = Twitter()\n",
        "\n",
        "sentences_tag = []\n",
        "sentences_tag = twitter.pos(news)\n",
        "\n",
        "noun_adj_list = []\n",
        "\n",
        "for word, tag in sentences_tag:\n",
        "    if tag in ['Noun', 'Adjective'] and len(str(word)) > 1:\n",
        "        noun_adj_list.append(word)\n",
        "\n",
        "counts = Counter(noun_adj_list)\n",
        "tags = counts.most_common(100)\n",
        "cand_mask = np.array(Image.open('circle.png'))\n",
        "\n",
        "wc = WordCloud(font_path = '/content/drive/MyDrive/구미시 뉴스기사 분류/data/NanumPen.ttf', background_color = 'white', mask = cand_mask, width = 500, height = 500)\n",
        "cloud = wc.generate_from_frequencies(dict(tags))\n",
        "\n",
        "cloud.to_file('gumi_neutral_news.png')"
      ],
      "metadata": {
        "id": "XST2CGtqUNR6",
        "outputId": "d69ee013-1599-4497-d37a-08b30663fab9",
        "colab": {
          "base_uri": "https://localhost:8080/"
        }
      },
      "execution_count": null,
      "outputs": [
        {
          "output_type": "execute_result",
          "data": {
            "text/plain": [
              "<wordcloud.wordcloud.WordCloud at 0x7f1157781ad0>"
            ]
          },
          "metadata": {},
          "execution_count": 43
        }
      ]
    }
  ]
}